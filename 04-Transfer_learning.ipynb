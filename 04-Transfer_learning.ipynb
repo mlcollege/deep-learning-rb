{
  "nbformat": 4,
  "nbformat_minor": 0,
  "metadata": {
    "colab": {
      "name": "Transfer_learning.ipynb",
      "version": "0.3.2",
      "provenance": [],
      "collapsed_sections": []
    },
    "kernelspec": {
      "name": "python3",
      "display_name": "Python 3"
    },
    "accelerator": "GPU"
  },
  "cells": [
    {
      "cell_type": "markdown",
      "metadata": {
        "id": "hOF_INxUcPLD",
        "colab_type": "text"
      },
      "source": [
        "# Transfer Learning Task\n",
        "\n",
        "The goal of this task is to illustrate how pretrained neural networks can be used for soving different classification problems.\n",
        "\n",
        "## Data\n",
        "\n",
        "We will use the [Cifar 10 dataset](https://www.cs.toronto.edu/~kriz/cifar.html). It consists of 60000 32x32 colour images in 10 classes, with 6000 images per class. There are 50000 training images and 10000 test images.\n",
        "\n",
        "Here are the classes in the dataset, as well as 10 random images from each:\n",
        "\n",
        "![cifar10](images/cifar10.png)\n",
        "\n"
      ]
    },
    {
      "cell_type": "code",
      "metadata": {
        "id": "70eKVSd3Bcev",
        "colab_type": "code",
        "colab": {}
      },
      "source": [
        "from keras.datasets import cifar10\n",
        "(x_train, y_train), (x_test, y_test) = cifar10.load_data()\n",
        "\n",
        "print(x_train.shape)\n",
        "print(y_train.shape)"
      ],
      "execution_count": 0,
      "outputs": []
    },
    {
      "cell_type": "markdown",
      "metadata": {
        "id": "sKgE-SjNC5Do",
        "colab_type": "text"
      },
      "source": [
        "Prepare data"
      ]
    },
    {
      "cell_type": "code",
      "metadata": {
        "id": "g8lqSW6OC8Gs",
        "colab_type": "code",
        "colab": {}
      },
      "source": [
        "from keras.utils import np_utils\n",
        "import numpy as np\n",
        "\n",
        "n_classes = 10\n",
        "\n",
        "y_train = np_utils.to_categorical(y_train, n_classes)\n",
        "y_test = np_utils.to_categorical(y_test, n_classes)\n",
        "x_train = x_train.astype('float32') / 255\n",
        "x_test = x_test.astype('float32') / 255\n",
        "\n",
        "x_train_mean = np.mean(x_train, axis=0)\n",
        "x_train -= x_train_mean\n",
        "x_test -= x_train_mean"
      ],
      "execution_count": 0,
      "outputs": []
    },
    {
      "cell_type": "markdown",
      "metadata": {
        "id": "v1v5qOMsDgow",
        "colab_type": "text"
      },
      "source": [
        "Import pretrained model"
      ]
    },
    {
      "cell_type": "code",
      "metadata": {
        "id": "LXlt7ntQCpc4",
        "colab_type": "code",
        "colab": {
          "base_uri": "https://localhost:8080/",
          "height": 241
        },
        "outputId": "a3bbb13f-fdd1-421e-a894-808a1d97b0dd"
      },
      "source": [
        "from keras.applications import VGG16\n",
        "base_model = VGG16(weights='imagenet', include_top=False, input_shape=(32, 32, 3))\n",
        "for layer in base_model.layers[:-4]:\n",
        "    layer.trainable = False\n",
        "\n",
        "#from keras.applications.resnet50 import ResNet50\n",
        "#base_model = ResNet50(weights='imagenet', include_top=False, input_shape=(32, 32, 3))"
      ],
      "execution_count": 6,
      "outputs": [
        {
          "output_type": "stream",
          "text": [
            "W0716 09:14:01.487159 140186557073280 deprecation_wrapper.py:119] From /usr/local/lib/python3.6/dist-packages/keras/backend/tensorflow_backend.py:517: The name tf.placeholder is deprecated. Please use tf.compat.v1.placeholder instead.\n",
            "\n",
            "W0716 09:14:01.503580 140186557073280 deprecation_wrapper.py:119] From /usr/local/lib/python3.6/dist-packages/keras/backend/tensorflow_backend.py:4138: The name tf.random_uniform is deprecated. Please use tf.random.uniform instead.\n",
            "\n",
            "W0716 09:14:01.551055 140186557073280 deprecation_wrapper.py:119] From /usr/local/lib/python3.6/dist-packages/keras/backend/tensorflow_backend.py:3976: The name tf.nn.max_pool is deprecated. Please use tf.nn.max_pool2d instead.\n",
            "\n"
          ],
          "name": "stderr"
        },
        {
          "output_type": "stream",
          "text": [
            "Downloading data from https://github.com/fchollet/deep-learning-models/releases/download/v0.1/vgg16_weights_tf_dim_ordering_tf_kernels_notop.h5\n",
            "58892288/58889256 [==============================] - 25s 0us/step\n"
          ],
          "name": "stdout"
        },
        {
          "output_type": "stream",
          "text": [
            "W0716 09:14:28.555120 140186557073280 deprecation_wrapper.py:119] From /usr/local/lib/python3.6/dist-packages/keras/backend/tensorflow_backend.py:174: The name tf.get_default_session is deprecated. Please use tf.compat.v1.get_default_session instead.\n",
            "\n",
            "W0716 09:14:28.556808 140186557073280 deprecation_wrapper.py:119] From /usr/local/lib/python3.6/dist-packages/keras/backend/tensorflow_backend.py:181: The name tf.ConfigProto is deprecated. Please use tf.compat.v1.ConfigProto instead.\n",
            "\n"
          ],
          "name": "stderr"
        }
      ]
    },
    {
      "cell_type": "markdown",
      "metadata": {
        "id": "xZIpQiXwDyQ_",
        "colab_type": "text"
      },
      "source": [
        "Add new top layers"
      ]
    },
    {
      "cell_type": "code",
      "metadata": {
        "id": "EZsaIchIP6wa",
        "colab_type": "code",
        "outputId": "c86a341e-2590-413a-d21f-5dd7e9326cab",
        "colab": {
          "base_uri": "https://localhost:8080/",
          "height": 88
        }
      },
      "source": [
        "from keras import models, layers\n",
        "    \n",
        "model = models.Sequential()\n",
        "model.add(base_model)\n",
        "model.add(layers.Flatten())\n",
        "model.add(layers.Dense(512, activation='relu'))\n",
        "model.add(layers.Dropout(0.5))\n",
        "model.add(layers.Dense(10, activation='softmax'))\n"
      ],
      "execution_count": 7,
      "outputs": [
        {
          "output_type": "stream",
          "text": [
            "W0716 09:14:36.102345 140186557073280 deprecation.py:506] From /usr/local/lib/python3.6/dist-packages/keras/backend/tensorflow_backend.py:3445: calling dropout (from tensorflow.python.ops.nn_ops) with keep_prob is deprecated and will be removed in a future version.\n",
            "Instructions for updating:\n",
            "Please use `rate` instead of `keep_prob`. Rate should be set to `rate = 1 - keep_prob`.\n"
          ],
          "name": "stderr"
        }
      ]
    },
    {
      "cell_type": "markdown",
      "metadata": {
        "id": "GlN-7FUqEGEf",
        "colab_type": "text"
      },
      "source": [
        "Compile the model"
      ]
    },
    {
      "cell_type": "code",
      "metadata": {
        "id": "joNSbPVxQwL_",
        "colab_type": "code",
        "colab": {
          "base_uri": "https://localhost:8080/",
          "height": 71
        },
        "outputId": "d066b492-4c30-4567-b870-9a8e918ba3d9"
      },
      "source": [
        "model.compile(loss='categorical_crossentropy',\n",
        "              optimizer='adam',\n",
        "              metrics=['accuracy'])"
      ],
      "execution_count": 8,
      "outputs": [
        {
          "output_type": "stream",
          "text": [
            "W0716 09:15:13.903892 140186557073280 deprecation_wrapper.py:119] From /usr/local/lib/python3.6/dist-packages/keras/optimizers.py:790: The name tf.train.Optimizer is deprecated. Please use tf.compat.v1.train.Optimizer instead.\n",
            "\n"
          ],
          "name": "stderr"
        }
      ]
    },
    {
      "cell_type": "code",
      "metadata": {
        "id": "y3VgPkmaKyMK",
        "colab_type": "code",
        "outputId": "abdece55-346f-4a21-d708-229a902b6cff",
        "colab": {
          "base_uri": "https://localhost:8080/",
          "height": 462
        }
      },
      "source": [
        "model.fit(x_train, y_train,\n",
        "          batch_size = 512, epochs = 10, verbose=1,\n",
        "          validation_data=(x_test, y_test))"
      ],
      "execution_count": 9,
      "outputs": [
        {
          "output_type": "stream",
          "text": [
            "W0716 09:16:10.717417 140186557073280 deprecation.py:323] From /usr/local/lib/python3.6/dist-packages/tensorflow/python/ops/math_grad.py:1250: add_dispatch_support.<locals>.wrapper (from tensorflow.python.ops.array_ops) is deprecated and will be removed in a future version.\n",
            "Instructions for updating:\n",
            "Use tf.where in 2.0, which has the same broadcast rule as np.where\n"
          ],
          "name": "stderr"
        },
        {
          "output_type": "stream",
          "text": [
            "Train on 50000 samples, validate on 10000 samples\n",
            "Epoch 1/10\n",
            "50000/50000 [==============================] - 29s 590us/step - loss: 1.4828 - acc: 0.4579 - val_loss: 0.9756 - val_acc: 0.6612\n",
            "Epoch 2/10\n",
            "50000/50000 [==============================] - 20s 392us/step - loss: 0.8802 - acc: 0.7000 - val_loss: 0.8370 - val_acc: 0.7128\n",
            "Epoch 3/10\n",
            "50000/50000 [==============================] - 20s 391us/step - loss: 0.7319 - acc: 0.7487 - val_loss: 0.7746 - val_acc: 0.7363\n",
            "Epoch 4/10\n",
            "50000/50000 [==============================] - 20s 391us/step - loss: 0.6333 - acc: 0.7843 - val_loss: 0.7465 - val_acc: 0.7458\n",
            "Epoch 5/10\n",
            "50000/50000 [==============================] - 20s 392us/step - loss: 0.5492 - acc: 0.8121 - val_loss: 0.7664 - val_acc: 0.7497\n",
            "Epoch 6/10\n",
            "50000/50000 [==============================] - 20s 391us/step - loss: 0.4752 - acc: 0.8365 - val_loss: 0.7620 - val_acc: 0.7521\n",
            "Epoch 7/10\n",
            "50000/50000 [==============================] - 20s 392us/step - loss: 0.4113 - acc: 0.8595 - val_loss: 0.7832 - val_acc: 0.7499\n",
            "Epoch 8/10\n",
            "50000/50000 [==============================] - 20s 391us/step - loss: 0.3412 - acc: 0.8834 - val_loss: 0.8472 - val_acc: 0.7505\n",
            "Epoch 9/10\n",
            "50000/50000 [==============================] - 20s 391us/step - loss: 0.2932 - acc: 0.8993 - val_loss: 0.9082 - val_acc: 0.7453\n",
            "Epoch 10/10\n",
            "50000/50000 [==============================] - 20s 390us/step - loss: 0.2489 - acc: 0.9127 - val_loss: 0.9557 - val_acc: 0.7475\n"
          ],
          "name": "stdout"
        },
        {
          "output_type": "execute_result",
          "data": {
            "text/plain": [
              "<keras.callbacks.History at 0x7f7f60ca8b38>"
            ]
          },
          "metadata": {
            "tags": []
          },
          "execution_count": 9
        }
      ]
    },
    {
      "cell_type": "markdown",
      "metadata": {
        "id": "HAMR2Y-4Fc1r",
        "colab_type": "text"
      },
      "source": [
        "## Evaluate the model\n",
        "\n",
        "First we need to convert probability vectors to class indices."
      ]
    },
    {
      "cell_type": "code",
      "metadata": {
        "id": "Sx9BF4owRQLw",
        "colab_type": "code",
        "colab": {
          "base_uri": "https://localhost:8080/",
          "height": 34
        },
        "outputId": "8dd9e319-e65a-4521-ba84-078ff02873ae"
      },
      "source": [
        "y_pred = model.predict(x_test)\n",
        "\n",
        "print(y_pred.shape)"
      ],
      "execution_count": 11,
      "outputs": [
        {
          "output_type": "stream",
          "text": [
            "(10000, 10)\n"
          ],
          "name": "stdout"
        }
      ]
    },
    {
      "cell_type": "code",
      "metadata": {
        "id": "1Fkgj0CsFiKf",
        "colab_type": "code",
        "colab": {
          "base_uri": "https://localhost:8080/",
          "height": 34
        },
        "outputId": "cce3e7e8-f188-42bf-84df-c63b71a6b07b"
      },
      "source": [
        "import numpy as np\n",
        "\n",
        "y_test_class = np.argmax(y_test, axis=1)\n",
        "y_pred_class = np.argmax(y_pred, axis=1)\n",
        "print(y_pred_class.shape)"
      ],
      "execution_count": 12,
      "outputs": [
        {
          "output_type": "stream",
          "text": [
            "(10000,)\n"
          ],
          "name": "stdout"
        }
      ]
    },
    {
      "cell_type": "code",
      "metadata": {
        "id": "6hJX2LzCFqH3",
        "colab_type": "code",
        "colab": {
          "base_uri": "https://localhost:8080/",
          "height": 340
        },
        "outputId": "d8c55c8a-593d-4260-872e-086151e2462f"
      },
      "source": [
        "from sklearn import metrics\n",
        "from sklearn.metrics import accuracy_score\n",
        "\n",
        "\n",
        "print (\"Test accuracy: {:.4f}\".format(accuracy_score(y_test_class, y_pred_class)))\n",
        "print ()\n",
        "print(metrics.classification_report(y_test_class, y_pred_class, digits=4))"
      ],
      "execution_count": 13,
      "outputs": [
        {
          "output_type": "stream",
          "text": [
            "Test accuracy: 0.7475\n",
            "\n",
            "              precision    recall  f1-score   support\n",
            "\n",
            "           0     0.8288    0.7600    0.7929      1000\n",
            "           1     0.8729    0.7900    0.8294      1000\n",
            "           2     0.6586    0.7370    0.6956      1000\n",
            "           3     0.6147    0.5010    0.5521      1000\n",
            "           4     0.7311    0.6770    0.7030      1000\n",
            "           5     0.6971    0.6190    0.6557      1000\n",
            "           6     0.6816    0.8670    0.7632      1000\n",
            "           7     0.8153    0.8080    0.8117      1000\n",
            "           8     0.7918    0.9050    0.8446      1000\n",
            "           9     0.7920    0.8110    0.8014      1000\n",
            "\n",
            "    accuracy                         0.7475     10000\n",
            "   macro avg     0.7484    0.7475    0.7450     10000\n",
            "weighted avg     0.7484    0.7475    0.7450     10000\n",
            "\n"
          ],
          "name": "stdout"
        }
      ]
    },
    {
      "cell_type": "code",
      "metadata": {
        "id": "NsyQZar3Fw5F",
        "colab_type": "code",
        "colab": {
          "base_uri": "https://localhost:8080/",
          "height": 187
        },
        "outputId": "f3e48beb-b754-487e-de20-b3c5e6a97e4d"
      },
      "source": [
        "from sklearn.metrics import confusion_matrix\n",
        "\n",
        "print(confusion_matrix(y_test_class, y_pred_class))"
      ],
      "execution_count": 14,
      "outputs": [
        {
          "output_type": "stream",
          "text": [
            "[[760  16  62  14  20   4  17  12  75  20]\n",
            " [ 15 790   4  11   1   5  14   2  49 109]\n",
            " [ 28   3 737  34  52  24  84  15  16   7]\n",
            " [ 14   3  79 501  46 155 122  33  24  23]\n",
            " [ 16   3  89  43 677  26  73  54  12   7]\n",
            " [  9   3  61 135  36 619  66  50   9  12]\n",
            " [  4   2  44  25  24  13 867   5  10   6]\n",
            " [ 11   3  29  32  59  32  11 808   3  12]\n",
            " [ 33  14  10   4   6   2   6   3 905  17]\n",
            " [ 27  68   4  16   5   8  12   9  40 811]]\n"
          ],
          "name": "stdout"
        }
      ]
    },
    {
      "cell_type": "code",
      "metadata": {
        "id": "Q7wffFlqF16i",
        "colab_type": "code",
        "colab": {}
      },
      "source": [
        ""
      ],
      "execution_count": 0,
      "outputs": []
    }
  ]
}