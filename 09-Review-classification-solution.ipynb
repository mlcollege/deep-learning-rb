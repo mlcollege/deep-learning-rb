{
 "cells": [
  {
   "cell_type": "markdown",
   "metadata": {},
   "source": [
    "# Travel agency's reviews - classification\n",
    "\n",
    "Implement and evaluate a classifier of user reviews using methods described in the NLP tutorial."
   ]
  },
  {
   "cell_type": "code",
   "execution_count": 9,
   "metadata": {},
   "outputs": [
    {
     "data": {
      "text/html": [
       "<div>\n",
       "<style scoped>\n",
       "    .dataframe tbody tr th:only-of-type {\n",
       "        vertical-align: middle;\n",
       "    }\n",
       "\n",
       "    .dataframe tbody tr th {\n",
       "        vertical-align: top;\n",
       "    }\n",
       "\n",
       "    .dataframe thead th {\n",
       "        text-align: right;\n",
       "    }\n",
       "</style>\n",
       "<table border=\"1\" class=\"dataframe\">\n",
       "  <thead>\n",
       "    <tr style=\"text-align: right;\">\n",
       "      <th></th>\n",
       "      <th>rating</th>\n",
       "      <th>text</th>\n",
       "    </tr>\n",
       "  </thead>\n",
       "  <tbody>\n",
       "    <tr>\n",
       "      <th>35</th>\n",
       "      <td>5</td>\n",
       "      <td>I bought the cheapest tickets through this ser...</td>\n",
       "    </tr>\n",
       "    <tr>\n",
       "      <th>36</th>\n",
       "      <td>5</td>\n",
       "      <td>Such a pleasure to know that you will be prope...</td>\n",
       "    </tr>\n",
       "    <tr>\n",
       "      <th>37</th>\n",
       "      <td>5</td>\n",
       "      <td>I always use this website to look for flights ...</td>\n",
       "    </tr>\n",
       "    <tr>\n",
       "      <th>38</th>\n",
       "      <td>2</td>\n",
       "      <td>A startup that finds discount flight tickets '...</td>\n",
       "    </tr>\n",
       "    <tr>\n",
       "      <th>39</th>\n",
       "      <td>5</td>\n",
       "      <td>Excellent customer service, fast and kind. Wan...</td>\n",
       "    </tr>\n",
       "    <tr>\n",
       "      <th>40</th>\n",
       "      <td>4</td>\n",
       "      <td>very good service from Quan Costa to help me w...</td>\n",
       "    </tr>\n",
       "    <tr>\n",
       "      <th>41</th>\n",
       "      <td>3</td>\n",
       "      <td>.@Skypickercom Finds Cheap Flights 'Hidden' On...</td>\n",
       "    </tr>\n",
       "    <tr>\n",
       "      <th>42</th>\n",
       "      <td>5</td>\n",
       "      <td>I have a problem with my tickets skypicker don...</td>\n",
       "    </tr>\n",
       "    <tr>\n",
       "      <th>43</th>\n",
       "      <td>4</td>\n",
       "      <td>Even though it took a bit time untill an agent...</td>\n",
       "    </tr>\n",
       "    <tr>\n",
       "      <th>44</th>\n",
       "      <td>5</td>\n",
       "      <td>Today I had a great experience with one of Kiw...</td>\n",
       "    </tr>\n",
       "  </tbody>\n",
       "</table>\n",
       "</div>"
      ],
      "text/plain": [
       "    rating                                               text\n",
       "35       5  I bought the cheapest tickets through this ser...\n",
       "36       5  Such a pleasure to know that you will be prope...\n",
       "37       5  I always use this website to look for flights ...\n",
       "38       2  A startup that finds discount flight tickets '...\n",
       "39       5  Excellent customer service, fast and kind. Wan...\n",
       "40       4  very good service from Quan Costa to help me w...\n",
       "41       3  .@Skypickercom Finds Cheap Flights 'Hidden' On...\n",
       "42       5  I have a problem with my tickets skypicker don...\n",
       "43       4  Even though it took a bit time untill an agent...\n",
       "44       5  Today I had a great experience with one of Kiw..."
      ]
     },
     "execution_count": 9,
     "metadata": {},
     "output_type": "execute_result"
    }
   ],
   "source": [
    "import pandas as pd\n",
    "\n",
    "reviews = pd.read_csv('../data/en_reviews.csv', sep='\\t', header=None, names =['rating', 'text'])\n",
    "reviews[35:45]"
   ]
  },
  {
   "cell_type": "markdown",
   "metadata": {},
   "source": [
    "## Preparation of train and test data sets\n",
    "Separate and rename target values."
   ]
  },
  {
   "cell_type": "code",
   "execution_count": 11,
   "metadata": {},
   "outputs": [
    {
     "name": "stdout",
     "output_type": "stream",
     "text": [
      "0    A voucher to nowhere #skypickerfail 2400 out o...\n",
      "1    I booked with Kiwi for the first time, just a ...\n",
      "2    I would like to say THANKS YOU for your custom...\n",
      "3    I just noticed 2 hours before my flight that I...\n",
      "4    This is the first time I have dealt with Skypi...\n",
      "Name: text, dtype: object\n",
      "[0, 1, 1, 1, 0]\n"
     ]
    }
   ],
   "source": [
    "target = reviews['rating']\n",
    "data = reviews['text']\n",
    "names = ['Class 1', 'Class 2', 'Class 3','Class 4', 'Class 5']\n",
    "\n",
    "#reduce number of classes\n",
    "target = list(map(lambda t: 1 if t==4 or t==5 else 0, target))\n",
    "names = [\"Negative\", \"Positive\"]\n",
    "\n",
    "print(data[:5])\n",
    "print(target[:5])"
   ]
  },
  {
   "cell_type": "markdown",
   "metadata": {},
   "source": [
    "Shuffle the data and split it to train and test parts."
   ]
  },
  {
   "cell_type": "code",
   "execution_count": 12,
   "metadata": {},
   "outputs": [
    {
     "name": "stdout",
     "output_type": "stream",
     "text": [
      "Train size: 6234\n",
      "Test size: 1559\n"
     ]
    }
   ],
   "source": [
    "from sklearn.model_selection import train_test_split\n",
    "\n",
    "X_train, X_test, y_train, y_test = train_test_split(data, target, test_size=0.2)\n",
    "print('Train size: {}'.format(len(X_train)))\n",
    "print('Test size: {}'.format(len(X_test)))"
   ]
  },
  {
   "cell_type": "markdown",
   "metadata": {},
   "source": [
    "## Classification\n",
    "\n",
    "Prepare ML pipeline including data preprocessing and train a classifier. Implement a baseline model using [DummyClassifier](http://scikit-learn.org/stable/modules/generated/sklearn.dummy.DummyClassifier.html). Experiment with various models and data preprocessing techniques."
   ]
  },
  {
   "cell_type": "code",
   "execution_count": 13,
   "metadata": {},
   "outputs": [],
   "source": [
    "from sklearn.pipeline import Pipeline\n",
    "from sklearn.feature_extraction.text import CountVectorizer, TfidfTransformer\n",
    "from nltk.tokenize.casual import casual_tokenize\n",
    "\n",
    "from sklearn.dummy import DummyClassifier\n",
    "from sklearn.naive_bayes import MultinomialNB\n",
    "from sklearn.linear_model import LogisticRegression\n",
    "from sklearn.svm import SVC\n",
    "from sklearn.ensemble import GradientBoostingClassifier\n",
    "\n",
    "baselineModel = Pipeline([('vec', CountVectorizer(tokenizer=lambda x: casual_tokenize(x))),\n",
    "                          ('clf', DummyClassifier(strategy='stratified'))\n",
    "                         ])\n",
    "                          \n",
    "clfModel = Pipeline([('vec', CountVectorizer(tokenizer=lambda x: casual_tokenize(x))),\n",
    "                     ('tfidf', TfidfTransformer()),\n",
    "                     #('clf', MultinomialNB())\n",
    "                     #('clf', LogisticRegression())\n",
    "                     #('clf', GradientBoostingClassifier(n_estimators=300))\n",
    "                     ('clf', SVC(kernel='linear'))\n",
    "                    ])\n",
    "\n",
    "baselineModel.fit(X_train, y_train)\n",
    "clfModel.fit(X_train, y_train)\n",
    "\n",
    "y_baseline = baselineModel.predict(X_test)\n",
    "y_pred = clfModel.predict(X_test)"
   ]
  },
  {
   "cell_type": "markdown",
   "metadata": {},
   "source": [
    "## Evaluation\n",
    "\n",
    "Evaluate the models using standard methods. Which model performs best?"
   ]
  },
  {
   "cell_type": "code",
   "execution_count": 14,
   "metadata": {},
   "outputs": [
    {
     "name": "stdout",
     "output_type": "stream",
     "text": [
      "BASELINE REPORT\n",
      "Accuracy: 0.7132777421423989\n",
      "Confusion matrix:\n",
      "[[  33  224]\n",
      " [ 223 1079]]\n",
      "             precision    recall  f1-score   support\n",
      "\n",
      "   Negative       0.13      0.13      0.13       257\n",
      "   Positive       0.83      0.83      0.83      1302\n",
      "\n",
      "avg / total       0.71      0.71      0.71      1559\n",
      "\n",
      "\n",
      "ML MODEL REPORT\n",
      "Accuracy: 0.9518922386144965\n",
      "Confusion matrix:\n",
      "[[ 212   45]\n",
      " [  30 1272]]\n",
      "             precision    recall  f1-score   support\n",
      "\n",
      "   Negative       0.88      0.82      0.85       257\n",
      "   Positive       0.97      0.98      0.97      1302\n",
      "\n",
      "avg / total       0.95      0.95      0.95      1559\n",
      "\n"
     ]
    }
   ],
   "source": [
    "from sklearn import metrics\n",
    "\n",
    "print(\"BASELINE REPORT\")\n",
    "print(\"Accuracy: {}\".format(metrics.accuracy_score(y_test, y_baseline)))\n",
    "print(\"Confusion matrix:\")\n",
    "print(metrics.confusion_matrix(y_test, y_baseline))\n",
    "print(metrics.classification_report(y_test, y_baseline,\n",
    "                                            target_names=names))\n",
    "print()\n",
    "print(\"ML MODEL REPORT\")\n",
    "print(\"Accuracy: {}\".format(metrics.accuracy_score(y_test, y_pred)))\n",
    "print(\"Confusion matrix:\")\n",
    "print(metrics.confusion_matrix(y_test, y_pred))\n",
    "print(metrics.classification_report(y_test, y_pred,\n",
    "                                            target_names=names))"
   ]
  },
  {
   "cell_type": "code",
   "execution_count": null,
   "metadata": {},
   "outputs": [],
   "source": []
  }
 ],
 "metadata": {
  "kernelspec": {
   "display_name": "Python 3",
   "language": "python",
   "name": "python3"
  },
  "language_info": {
   "codemirror_mode": {
    "name": "ipython",
    "version": 3
   },
   "file_extension": ".py",
   "mimetype": "text/x-python",
   "name": "python",
   "nbconvert_exporter": "python",
   "pygments_lexer": "ipython3",
   "version": "3.5.2"
  }
 },
 "nbformat": 4,
 "nbformat_minor": 2
}
