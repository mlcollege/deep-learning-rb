{
  "nbformat": 4,
  "nbformat_minor": 0,
  "metadata": {
    "kernelspec": {
      "display_name": "Python 3",
      "language": "python",
      "name": "python3"
    },
    "language_info": {
      "codemirror_mode": {
        "name": "ipython",
        "version": 3
      },
      "file_extension": ".py",
      "mimetype": "text/x-python",
      "name": "python",
      "nbconvert_exporter": "python",
      "pygments_lexer": "ipython3",
      "version": "3.5.2"
    },
    "colab": {
      "name": "10-Word2vec-in-gensim.ipynb",
      "provenance": []
    }
  },
  "cells": [
    {
      "cell_type": "markdown",
      "metadata": {
        "id": "KNASq2m7PWJt",
        "colab_type": "text"
      },
      "source": [
        "# Word2vec in Gensim\n",
        "\n",
        "Implement a simple word2vec estimator using [Gensim](https://radimrehurek.com/gensim/). Use the small Wikipedia corpus from 'enlang1.txt'."
      ]
    },
    {
      "cell_type": "code",
      "metadata": {
        "id": "bEXQrIywanNu",
        "colab_type": "code",
        "colab": {}
      },
      "source": [
        "!wget https://raw.githubusercontent.com/mlcollege/deep-learning-rb/master/data/corpora/enlang1.txt"
      ],
      "execution_count": 0,
      "outputs": []
    },
    {
      "cell_type": "code",
      "metadata": {
        "id": "4YDdRu3APWJw",
        "colab_type": "code",
        "colab": {}
      },
      "source": [
        "import gensim, logging\n",
        "logging.basicConfig(format='%(asctime)s : %(levelname)s : %(message)s', level=logging.INFO)\n",
        "\n",
        "sentences = []\n",
        "with open('enlang1.txt') as f:\n",
        "    for line in f.readlines():\n",
        "        sentences.append(line.strip().split())\n",
        "\n",
        "model = gensim.models.Word2Vec(sentences, size = 50, min_count=3)"
      ],
      "execution_count": 0,
      "outputs": []
    },
    {
      "cell_type": "code",
      "metadata": {
        "id": "ssFkWhCuPWJ_",
        "colab_type": "code",
        "colab": {
          "base_uri": "https://localhost:8080/",
          "height": 170
        },
        "outputId": "f060bcd8-360a-4240-9b6b-b805adf458b7"
      },
      "source": [
        "print(model.wv['car'])\n"
      ],
      "execution_count": 3,
      "outputs": [
        {
          "output_type": "stream",
          "text": [
            "[-1.1598498  -0.25791538 -1.6610552  -1.4129301  -0.42355385 -0.19417267\n",
            " -2.405079   -0.18649796 -0.09387748  0.65342534  0.17040008  0.82497376\n",
            " -3.1298604   1.4710575   0.34527615 -1.8955553   1.3746815   1.6183246\n",
            "  1.637082    2.1225793  -0.8191242   1.1500102  -1.4001088  -1.789148\n",
            "  2.7371156   0.6125855   0.00738211 -0.6791236   0.37266815  1.9376935\n",
            " -0.77046585  3.1481955   2.0597782  -2.6471891   0.33094633  2.5554118\n",
            "  1.2720813  -2.31104     0.41289717 -0.7712517  -1.4555893  -1.639989\n",
            " -1.0318247   0.3031134  -0.24505097 -1.9277464   0.5364946   0.6615622\n",
            " -0.26627937  0.8106867 ]\n"
          ],
          "name": "stdout"
        }
      ]
    },
    {
      "cell_type": "code",
      "metadata": {
        "id": "GAANf5r7PWKQ",
        "colab_type": "code",
        "colab": {
          "base_uri": "https://localhost:8080/",
          "height": 241
        },
        "outputId": "300e961b-0c6e-48bf-a9c1-80dc9170ddfe"
      },
      "source": [
        "model.wv.most_similar(positive=['cars', 'bus'], negative=['car'])"
      ],
      "execution_count": 5,
      "outputs": [
        {
          "output_type": "stream",
          "text": [
            "/usr/local/lib/python3.6/dist-packages/gensim/matutils.py:737: FutureWarning: Conversion of the second argument of issubdtype from `int` to `np.signedinteger` is deprecated. In future, it will be treated as `np.int64 == np.dtype(int).type`.\n",
            "  if np.issubdtype(vec.dtype, np.int):\n"
          ],
          "name": "stderr"
        },
        {
          "output_type": "execute_result",
          "data": {
            "text/plain": [
              "[('buses', 0.905258297920227),\n",
              " ('routes', 0.8908281326293945),\n",
              " ('roads', 0.8641472458839417),\n",
              " ('platforms', 0.841183066368103),\n",
              " ('trains', 0.8157158493995667),\n",
              " ('facilities', 0.8042889833450317),\n",
              " ('viaducts', 0.8022995591163635),\n",
              " ('bikes', 0.8017879128456116),\n",
              " ('intercity', 0.8017406463623047),\n",
              " ('rail', 0.8009991645812988)]"
            ]
          },
          "metadata": {
            "tags": []
          },
          "execution_count": 5
        }
      ]
    },
    {
      "cell_type": "markdown",
      "metadata": {
        "id": "29DqGPIWPWKT",
        "colab_type": "text"
      },
      "source": [
        "# Import better models\n",
        "\n",
        "Import word vectors trained on [Common Crawl](https://fasttext.cc/docs/en/english-vectors.html) corpus (600 B tokens) and play with it."
      ]
    },
    {
      "cell_type": "code",
      "metadata": {
        "id": "VXc9qpejc0Gn",
        "colab_type": "code",
        "colab": {}
      },
      "source": [
        "!wget https://www.mlcollege.com/data/crawl-300.vec.bz2\n",
        "!bunzip2 crawl-300.vec.bz2"
      ],
      "execution_count": 0,
      "outputs": []
    },
    {
      "cell_type": "code",
      "metadata": {
        "id": "HBpbFeG1PWKT",
        "colab_type": "code",
        "colab": {}
      },
      "source": [
        "from gensim.models.keyedvectors import KeyedVectors\n",
        "word_vectors = KeyedVectors.load_word2vec_format('crawl-300.vec', binary=False) "
      ],
      "execution_count": 0,
      "outputs": []
    },
    {
      "cell_type": "code",
      "metadata": {
        "id": "c9fo2HPCPWKV",
        "colab_type": "code",
        "colab": {
          "base_uri": "https://localhost:8080/",
          "height": 241
        },
        "outputId": "89098b0b-2591-45e1-9db3-d5d6df69c781"
      },
      "source": [
        "word_vectors.most_similar(positive=['kings', 'queen'], negative=['king'])"
      ],
      "execution_count": 19,
      "outputs": [
        {
          "output_type": "stream",
          "text": [
            "/usr/local/lib/python3.6/dist-packages/gensim/matutils.py:737: FutureWarning: Conversion of the second argument of issubdtype from `int` to `np.signedinteger` is deprecated. In future, it will be treated as `np.int64 == np.dtype(int).type`.\n",
            "  if np.issubdtype(vec.dtype, np.int):\n"
          ],
          "name": "stderr"
        },
        {
          "output_type": "execute_result",
          "data": {
            "text/plain": [
              "[('queens', 0.8387579917907715),\n",
              " ('queen.', 0.6004167795181274),\n",
              " ('monarchs', 0.5899761915206909),\n",
              " ('Queen', 0.5859926342964172),\n",
              " ('empresses', 0.577515184879303),\n",
              " ('princes', 0.5499585270881653),\n",
              " ('QUEEN', 0.5448766350746155),\n",
              " ('royals', 0.5442696809768677),\n",
              " ('princesses', 0.5383292436599731),\n",
              " ('royal', 0.5232110023498535)]"
            ]
          },
          "metadata": {
            "tags": []
          },
          "execution_count": 19
        }
      ]
    },
    {
      "cell_type": "code",
      "metadata": {
        "id": "-tvSWbA5PWKZ",
        "colab_type": "code",
        "colab": {
          "base_uri": "https://localhost:8080/",
          "height": 241
        },
        "outputId": "faae4df5-59a5-4e29-e0d8-f8755ded1ff1"
      },
      "source": [
        "word_vectors.most_similar(positive=['woman', 'husband'], negative=['man'])"
      ],
      "execution_count": 20,
      "outputs": [
        {
          "output_type": "stream",
          "text": [
            "/usr/local/lib/python3.6/dist-packages/gensim/matutils.py:737: FutureWarning: Conversion of the second argument of issubdtype from `int` to `np.signedinteger` is deprecated. In future, it will be treated as `np.int64 == np.dtype(int).type`.\n",
            "  if np.issubdtype(vec.dtype, np.int):\n"
          ],
          "name": "stderr"
        },
        {
          "output_type": "execute_result",
          "data": {
            "text/plain": [
              "[('wife', 0.7529045343399048),\n",
              " ('daughter', 0.6500851511955261),\n",
              " ('mother-in-law', 0.6470040082931519),\n",
              " ('spouse', 0.6457177996635437),\n",
              " ('husbands', 0.6331113576889038),\n",
              " ('mother', 0.6005340218544006),\n",
              " ('ex-husband', 0.5952433347702026),\n",
              " ('daughter-in-law', 0.5948172807693481),\n",
              " ('ex-wife', 0.5728636980056763),\n",
              " ('daughters', 0.5600825548171997)]"
            ]
          },
          "metadata": {
            "tags": []
          },
          "execution_count": 20
        }
      ]
    },
    {
      "cell_type": "code",
      "metadata": {
        "id": "Ghnht-YiPWMe",
        "colab_type": "code",
        "colab": {
          "base_uri": "https://localhost:8080/",
          "height": 241
        },
        "outputId": "355c06a3-c8c7-4631-9292-674035a4c853"
      },
      "source": [
        "word_vectors.most_similar(positive=['Paris', 'Spain'], negative=['France'])"
      ],
      "execution_count": 21,
      "outputs": [
        {
          "output_type": "stream",
          "text": [
            "/usr/local/lib/python3.6/dist-packages/gensim/matutils.py:737: FutureWarning: Conversion of the second argument of issubdtype from `int` to `np.signedinteger` is deprecated. In future, it will be treated as `np.int64 == np.dtype(int).type`.\n",
            "  if np.issubdtype(vec.dtype, np.int):\n"
          ],
          "name": "stderr"
        },
        {
          "output_type": "execute_result",
          "data": {
            "text/plain": [
              "[('Madrid', 0.8625079393386841),\n",
              " ('Barcelona', 0.7637038230895996),\n",
              " ('Sevilla', 0.6874053478240967),\n",
              " ('Seville', 0.6747831702232361),\n",
              " ('Malaga', 0.6494932174682617),\n",
              " ('Zaragoza', 0.645937442779541),\n",
              " ('Valencia', 0.6383105516433716),\n",
              " ('Alicante', 0.6115808486938477),\n",
              " ('Salamanca', 0.6041630506515503),\n",
              " ('Murcia', 0.6019026041030884)]"
            ]
          },
          "metadata": {
            "tags": []
          },
          "execution_count": 21
        }
      ]
    },
    {
      "cell_type": "code",
      "metadata": {
        "id": "3Z5tua3yPWMm",
        "colab_type": "code",
        "colab": {
          "base_uri": "https://localhost:8080/",
          "height": 241
        },
        "outputId": "6350cdba-aa97-4636-f91d-61d52f374f93"
      },
      "source": [
        "word_vectors.most_similar(positive=['Donald', 'Putin'], negative=['Trump'])"
      ],
      "execution_count": 22,
      "outputs": [
        {
          "output_type": "stream",
          "text": [
            "/usr/local/lib/python3.6/dist-packages/gensim/matutils.py:737: FutureWarning: Conversion of the second argument of issubdtype from `int` to `np.signedinteger` is deprecated. In future, it will be treated as `np.int64 == np.dtype(int).type`.\n",
            "  if np.issubdtype(vec.dtype, np.int):\n"
          ],
          "name": "stderr"
        },
        {
          "output_type": "execute_result",
          "data": {
            "text/plain": [
              "[('Vladimir', 0.6446309089660645),\n",
              " ('Medvedev', 0.6112760901451111),\n",
              " ('Sergei', 0.5950402021408081),\n",
              " ('Dmitry', 0.5793238878250122),\n",
              " ('Oleg', 0.5696351528167725),\n",
              " ('Denis', 0.5639138221740723),\n",
              " ('Mikhail', 0.5574286580085754),\n",
              " ('Anatoly', 0.5540498495101929),\n",
              " ('Igor', 0.5533066987991333),\n",
              " ('Ivan', 0.5529454946517944)]"
            ]
          },
          "metadata": {
            "tags": []
          },
          "execution_count": 22
        }
      ]
    }
  ]
}